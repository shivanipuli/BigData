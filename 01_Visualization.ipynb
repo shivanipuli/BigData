{
 "cells": [
  {
   "cell_type": "code",
   "execution_count": null,
   "id": "c304f7a5-9680-4363-89f8-2b759386024d",
   "metadata": {},
   "outputs": [],
   "source": [
    "import numpy as np\n",
    "import pandas as pd\n",
    "import warnings\n",
    "warnings.filterwarnings('ignore')\n",
    "import matplotlib.pyplot as plt\n",
    "plt.rc('font', size=14)\n",
    "import seaborn as sns\n",
    "sns.set(style='whitegrid', color_codes=True, rc={'figure.figsize':(11,8)}, font_scale=1.5)"
   ]
  },
  {
   "cell_type": "code",
   "execution_count": null,
   "id": "c142fa14-2aa2-444e-b17c-5fdd593eeb17",
   "metadata": {},
   "outputs": [],
   "source": [
    "_DATA_DIR = '/classes/20800_winter2024/Data'"
   ]
  },
  {
   "cell_type": "code",
   "execution_count": null,
   "id": "674f225c-c542-4d86-9488-8d12bc467b3c",
   "metadata": {},
   "outputs": [],
   "source": [
    "! python3 --version"
   ]
  },
  {
   "cell_type": "markdown",
   "id": "965e792b-9723-4553-a7a1-61db6f318c28",
   "metadata": {},
   "source": [
    "# Lending Club example "
   ]
  },
  {
   "cell_type": "code",
   "execution_count": null,
   "id": "36ddfbfa-f7a5-43b8-bd3d-ae2306f13453",
   "metadata": {
    "scrolled": true
   },
   "outputs": [],
   "source": [
    "# load data\n",
    "loan = pd.read_csv('%s/loan.csv'%(_DATA_DIR), index_col = 0)\n",
    "\n",
    "# 0: charged off, 1: fully paid, -1: other\n",
    "loan = loan[loan['Paid']!= -1]\n",
    "loan['log_inc'] = loan['annual_inc'].apply(lambda x: np.log(x))"
   ]
  },
  {
   "cell_type": "code",
   "execution_count": null,
   "id": "45f4fee2-ca9d-460b-a486-31d7ad1c90fa",
   "metadata": {},
   "outputs": [],
   "source": [
    "loan"
   ]
  },
  {
   "cell_type": "code",
   "execution_count": null,
   "id": "37001e5e-6934-4577-a9db-f492406898f4",
   "metadata": {},
   "outputs": [],
   "source": [
    "loan.shape"
   ]
  },
  {
   "cell_type": "code",
   "execution_count": null,
   "id": "57f6285e-e882-42e5-9db3-76c50ca5d521",
   "metadata": {},
   "outputs": [],
   "source": [
    "loan.iloc[:,0:3].tail(10)"
   ]
  },
  {
   "cell_type": "code",
   "execution_count": null,
   "id": "f940f4a4-8617-48b0-bcbc-c6735f911384",
   "metadata": {},
   "outputs": [],
   "source": [
    "# Countplot\n",
    "sns.countplot(x='Paid', data = loan, palette ='hls')\n",
    "plt.xlabel('Default category')\n",
    "plt.ylabel('Size')\n",
    "plt.title('Sample size for default/ non-default')\n",
    "#plt.savefig('%s/LendingClub/Counterplot_1.pdf'%(_FIGURE_DIR))\n",
    "plt.show()"
   ]
  },
  {
   "cell_type": "code",
   "execution_count": null,
   "id": "34c8dbe3-a862-4bc3-b752-baee1c1923c7",
   "metadata": {},
   "outputs": [],
   "source": [
    "# Histgram 1\n",
    "sns.distplot(loan.loan_amnt)\n",
    "plt.xlabel('Loan amount')\n",
    "plt.title('Histgram for Loan amount')\n",
    "#plt.savefig('%s/LendingClub/Histgram_1.pdf'%(_FIGURE_DIR))\n",
    "plt.show()"
   ]
  },
  {
   "cell_type": "code",
   "execution_count": null,
   "id": "3af84149-6eec-4bf2-9853-5409796317dc",
   "metadata": {},
   "outputs": [],
   "source": [
    "# Histgram 2\n",
    "sns.distplot(loan.int_rate)\n",
    "plt.xlabel('Interest rate')\n",
    "plt.title('Histgram for Interest rate')\n",
    "# plt.savefig('%s/LendingClub/Histgram_2.pdf'%(_FIGURE_DIR))\n",
    "plt.show()"
   ]
  },
  {
   "cell_type": "code",
   "execution_count": null,
   "id": "3f273edc-df36-4cd1-8689-08c11e88711e",
   "metadata": {},
   "outputs": [],
   "source": [
    "sns.kdeplot(loan['log_inc'][loan['Paid'] == 0], shade=True, color=\"r\", label=\"Paid = 0\", bw_adjust=3)\n",
    "sns.kdeplot(loan['log_inc'][loan['Paid'] == 1], shade=True, color=\"b\", label=\"Paid = 1\", bw_adjust=3)\n",
    "plt.title('The effect of Annualized Income')\n",
    "plt.xlabel('Log Income')\n",
    "plt.legend()\n",
    "plt.show()"
   ]
  },
  {
   "cell_type": "code",
   "execution_count": null,
   "id": "bc6807af-43dd-4741-8d98-b601230b2e06",
   "metadata": {},
   "outputs": [],
   "source": [
    "sns.kdeplot(loan['int_rate'][loan['Paid'] == 0], shade=True, color=\"r\", label=\"Paid = 0\", bw_adjust=3)\n",
    "sns.kdeplot(loan['int_rate'][loan['Paid'] == 1], shade=True, color=\"b\", label=\"Paid = 1\", bw_adjust=3)\n",
    "plt.title('The effect of Interest Rate')\n",
    "plt.xlabel('Interest rate')\n",
    "plt.legend()\n",
    "plt.show()"
   ]
  },
  {
   "cell_type": "code",
   "execution_count": null,
   "id": "ab6ecd65-8491-46f1-accb-9d8143613fa0",
   "metadata": {},
   "outputs": [],
   "source": [
    "table = pd.crosstab(loan['application_type'], loan.Paid)\n",
    "table.div(table.sum(1).astype(float), axis=0).plot(kind='bar', stacked = True)\n",
    "plt.title('Stacked Bar Chart of Application Type')\n",
    "plt.xlabel('Loan type')\n",
    "plt.ylabel('Proportion of Applicants')\n",
    "plt.show()"
   ]
  },
  {
   "cell_type": "code",
   "execution_count": null,
   "id": "ab397fc9-baed-4ce9-9548-0abe512849cd",
   "metadata": {},
   "outputs": [],
   "source": [
    "table = pd.crosstab(loan['grade'], loan.Paid)\n",
    "table.div(table.sum(1).astype(float), axis=0).plot(kind='bar', stacked = True)\n",
    "plt.title('Stacked Bar Chart of grade')\n",
    "plt.xlabel('Loan type')\n",
    "plt.ylabel('Proportion of Applicants')"
   ]
  },
  {
   "cell_type": "code",
   "execution_count": null,
   "id": "1d382ae6-468e-4960-8b26-2dc13dd8f684",
   "metadata": {},
   "outputs": [],
   "source": [
    "# conditional bar plot 1\n",
    "sns.boxplot(x=\"Paid\", y=\"log_inc\", data=loan)\n",
    "plt.title('Conditional Bar plots for log Income')\n",
    "plt.xlabel('Default category')\n",
    "plt.ylabel('Log Income')\n",
    "plt.show()"
   ]
  },
  {
   "cell_type": "code",
   "execution_count": null,
   "id": "086b065c-1caf-4a58-830f-f715a40cc3e8",
   "metadata": {},
   "outputs": [],
   "source": [
    "# conditional bar plot 2\n",
    "loan = loan.sort_values(['grade'], ascending=True).reset_index(drop=True)\n",
    "plt.figure(figsize = (16,12))\n",
    "sns.boxplot(x=\"Paid\", y=\"log_inc\", hue=\"grade\", data=loan)\n",
    "plt.xlabel('Dafault category')\n",
    "plt.ylabel('Log Income')\n",
    "plt.title('Conditional Bar plots for Log Income')\n",
    "plt.show()"
   ]
  },
  {
   "cell_type": "code",
   "execution_count": null,
   "id": "89d618e2-4b30-49de-a16b-df7c4965fe84",
   "metadata": {},
   "outputs": [],
   "source": [
    "# Scatter plot 1\n",
    "sns.scatterplot(x=\"log_inc\", y=\"loan_amnt\",  hue=\"Paid\", data=loan)\n",
    "plt.xlabel('Log Income')\n",
    "plt.ylabel('Loan amount')\n",
    "plt.title('Scatter plots for Loan amount V.S. Log Income')\n",
    "plt.show()"
   ]
  },
  {
   "cell_type": "code",
   "execution_count": null,
   "id": "aba04943-a5ad-4374-99b6-a3129504b439",
   "metadata": {},
   "outputs": [],
   "source": [
    "# add one more dimension by changing the style and hue\n",
    "sns.scatterplot(x=\"log_inc\", y=\"loan_amnt\",  hue=\"grade\", style=\"Paid\", data=loan);\n",
    "plt.xlabel('Log Income')\n",
    "plt.ylabel('Loan amount')\n",
    "plt.title('Scatter plots for Loan amount V.S. Log Income')\n",
    "plt.show()"
   ]
  },
  {
   "cell_type": "markdown",
   "id": "46e47f6a-39c3-455d-95f8-37960f61f1f5",
   "metadata": {},
   "source": [
    "# CAPM example"
   ]
  },
  {
   "cell_type": "code",
   "execution_count": null,
   "id": "88e84f4b-ed96-449b-b68b-a569e3a887ce",
   "metadata": {},
   "outputs": [],
   "source": [
    "# load data\n",
    "stocks = pd.read_csv('%s/dj30.csv'%(_DATA_DIR))\n",
    "\n",
    "# select AAPL as an example\n",
    "stock = stocks[stocks.TICKER == 'AAPL'][['date','RET','PRC']].set_index('date')\n",
    "stock.index = stock.index.astype(str)"
   ]
  },
  {
   "cell_type": "code",
   "execution_count": null,
   "id": "e7af7df7-3559-4a75-8913-090f2bbe8f39",
   "metadata": {},
   "outputs": [],
   "source": [
    "stocks"
   ]
  },
  {
   "cell_type": "code",
   "execution_count": null,
   "id": "ec5bb9e9-04d3-425e-bb26-8f49a620a925",
   "metadata": {},
   "outputs": [],
   "source": [
    "# Get the split date index\n",
    "idx = stock.index.tolist()\n",
    "stock_split = '20200824'\n",
    "idx.index(stock_split)"
   ]
  },
  {
   "cell_type": "code",
   "execution_count": null,
   "id": "bcc1c22d-f4cd-48bc-9e31-a05d9bf86e5f",
   "metadata": {},
   "outputs": [],
   "source": [
    "plt.figure(figsize = (20,8))\n",
    "plt.vlines(1168, 100, 500,color=\"red\", linestyles =\"dashed\",lw = 3)\n",
    "plt.annotate('Apple announces 4-1 stock split', xy = (1190, 300),xytext = (1250, 350),arrowprops = dict(facecolor = 'black', shrink = 0.005, width = 5, headwidth = 26,headlength = 8))\n",
    "\n",
    "plt.xlabel('Time period')\n",
    "plt.ylabel('Stock price')\n",
    "plt.title('Time series for Apple Stock Price')\n",
    "\n",
    "stock.PRC.plot()\n"
   ]
  },
  {
   "cell_type": "code",
   "execution_count": null,
   "id": "b1a92096-9977-4135-9a4b-95f7397d7520",
   "metadata": {},
   "outputs": [],
   "source": [
    "# time serie of return\n",
    "plt.figure(figsize = (20,8))\n",
    "plt.vlines(1168, stock.RET.min(), stock.RET.max(),color=\"red\", linestyles =\"dashed\",lw = 3)\n",
    "plt.annotate('Apple announces 4-1 stock split', xy = (1190, 0.05),xytext = (1250,0.1),arrowprops = dict(facecolor = 'black', shrink = 0.005, width = 5, headwidth = 26,headlength = 8))\n",
    "\n",
    "plt.xlabel('Time period')\n",
    "plt.ylabel('Stock Return')\n",
    "plt.title('Time series for Apple Stock Return')\n",
    "\n",
    "stock.RET.plot()\n"
   ]
  },
  {
   "cell_type": "code",
   "execution_count": null,
   "id": "392bd1dd-6411-446c-a688-e96e2a115288",
   "metadata": {},
   "outputs": [],
   "source": [
    "# time serie of return\n",
    "plt.figure(figsize = (20,8))\n",
    "plt.vlines(1168, -0.5, 2.5,color=\"red\", linestyles =\"dashed\",lw = 3)\n",
    "plt.annotate('Apple announces 4-1 stock split', xy = (1190, 1),xytext = (1250,1.5),arrowprops = dict(facecolor = 'black', shrink = 0.005, width = 5, headwidth = 26,headlength = 8))\n",
    "\n",
    "plt.xlabel('Time period')\n",
    "plt.ylabel('Stock Cumulative Return')\n",
    "plt.title('Time series for Apple Stock Cumulative Return')\n",
    "\n",
    "np.cumsum(stock.RET).plot()\n",
    "# plt.savefig('%s/CAPM/Time_series_3.pdf'%(_FIGURE_DIR))\n"
   ]
  },
  {
   "cell_type": "code",
   "execution_count": null,
   "id": "2c79d076-d4de-47e8-91c5-7526e0c8025f",
   "metadata": {},
   "outputs": [],
   "source": [
    "# Comparison\n",
    "\n",
    "stocks['date'] = pd.to_datetime(stocks['date'], format='%Y%m%d')\n",
    "\n",
    "AAPL = stocks[stocks.TICKER == 'AAPL'][['date','RET','PRC']]\n",
    "AAPL['CR'] = np.cumsum(AAPL.RET)\n",
    "IBM = stocks[stocks.TICKER == 'IBM'][['date','RET','PRC']]\n",
    "IBM['CR'] = np.cumsum(IBM.RET)\n",
    "JPM = stocks[stocks.TICKER == 'JPM'][['date','RET','PRC']]\n",
    "JPM['CR'] = np.cumsum(JPM.RET)\n",
    "\n",
    "fig, ax = plt.subplots(1, 1, figsize = (20, 8))\n",
    "plt.plot(AAPL.date, AAPL.CR, color = 'maroon')\n",
    "plt.plot(IBM.date, IBM.CR, color = 'gray')\n",
    "plt.plot(JPM.date, JPM.CR, color = 'green')\n",
    "plt.xlabel('Time period')\n",
    "plt.ylabel('Cumulative Return')\n",
    "plt.title('Time series for different stock cumulative return')\n",
    "plt.legend(['AAPL','IBM','JPM']);\n"
   ]
  },
  {
   "cell_type": "code",
   "execution_count": null,
   "id": "ef2bbde4-adb7-43aa-9d60-56131ee320ce",
   "metadata": {
    "scrolled": true
   },
   "outputs": [],
   "source": [
    "stocks = pd.read_csv('%s/dj30.csv'%(_DATA_DIR))\n",
    "riskfree = pd.read_csv('%s/DTB3.csv'%(_DATA_DIR))\n",
    "riskfree['rf'] = riskfree.DTB3 /25200\n",
    "riskfree['date'] = pd.to_datetime(riskfree['DATE']).dt.strftime('%Y%m%d').astype(int)\n",
    "stocks = pd.merge(stocks, riskfree, on=\"date\")\n",
    "\n",
    "import statsmodels.formula.api as smf\n",
    "unique_stock = stocks.TICKER.unique()\n",
    "coeff = pd.DataFrame(unique_stock)\n",
    "coeff.columns = ['TICKER']\n",
    "\n",
    "for i in range(len(unique_stock)):\n",
    "    mystock = unique_stock[i]\n",
    "    df = stocks[stocks.TICKER == mystock].set_index('date')[['RET','MrkRet','rf']]\n",
    "    reg = smf.glm(formula='(RET-rf) ~ (MrkRet-rf)', data=df).fit()\n",
    "    alpha = reg.params[0]\n",
    "    beta = reg.params[1]\n",
    "    coeff.loc[i,'alpha'] = alpha.tolist()\n",
    "    coeff.loc[i,'beta'] = beta.tolist()\n",
    "    "
   ]
  },
  {
   "cell_type": "code",
   "execution_count": null,
   "id": "efed85e3-2e25-41ee-8bee-249cc2b120fe",
   "metadata": {},
   "outputs": [],
   "source": [
    "# bar chart\n",
    "coeff = coeff.sort_values(['alpha'], ascending=False).reset_index(drop=True)\n",
    "plt.figure(figsize = (16,12))\n",
    "pal = sns.color_palette(\"Reds_r\",31)\n",
    "sns.barplot(\n",
    "    x=\"alpha\", \n",
    "    y=\"TICKER\", \n",
    "    data=coeff, \n",
    "    estimator=sum,\n",
    "    palette=pal\n",
    ");\n",
    "plt.title('Alpha for CAPM')\n",
    "\n",
    "plt.show()\n"
   ]
  },
  {
   "cell_type": "code",
   "execution_count": null,
   "id": "da1585c3-8f9f-46d9-96c1-d5c8f938a3a3",
   "metadata": {},
   "outputs": [],
   "source": [
    "coeff = coeff.sort_values(['beta'], ascending=False).reset_index(drop=True)\n",
    "plt.figure(figsize = (16,12))\n",
    "pal = sns.color_palette(\"Blues_r\",31)\n",
    "sns.barplot(\n",
    "    x=\"beta\", \n",
    "    y=\"TICKER\", \n",
    "    data=coeff, \n",
    "    estimator=sum,\n",
    "    palette=pal\n",
    ");\n",
    "plt.title('Beta for CAPM')\n",
    "\n",
    "plt.show()\n"
   ]
  },
  {
   "cell_type": "code",
   "execution_count": null,
   "id": "af851fa2-acd8-4fc2-b117-675e116a1034",
   "metadata": {},
   "outputs": [],
   "source": [
    "# Scatter plot with text\n",
    "plt.plot(coeff.beta, coeff.alpha,'o')\n",
    "\n",
    "for line in range(0,coeff.shape[0]):\n",
    "     plt.text(coeff.beta[line]+0.02, coeff.alpha[line], coeff.TICKER[line], \n",
    "              horizontalalignment='left', size='medium', color='black', weight='semibold')\n",
    "plt.title('Sactter plot for CAPM result')\n",
    "\n",
    "plt.show()\n"
   ]
  },
  {
   "cell_type": "code",
   "execution_count": null,
   "id": "1a99e8a4-0a61-4225-b5af-33607fbf7729",
   "metadata": {},
   "outputs": [],
   "source": [
    "print(reg.summary())"
   ]
  },
  {
   "cell_type": "markdown",
   "id": "3c789866-22ea-41d8-ad1f-e3cb4e878b89",
   "metadata": {},
   "source": [
    "# Maps"
   ]
  },
  {
   "cell_type": "code",
   "execution_count": null,
   "id": "c38e1b96-3c26-4824-93f7-601ea7c06a69",
   "metadata": {},
   "outputs": [],
   "source": [
    "# !pip install geopandas # install geopandas if you don't have it"
   ]
  },
  {
   "cell_type": "code",
   "execution_count": null,
   "id": "d018f593-c8e2-49b4-a5e1-985771c80a0d",
   "metadata": {},
   "outputs": [],
   "source": [
    "import geopandas as gpd\n",
    "zips = pd.read_csv('%s/zipcode.csv'%(_DATA_DIR))\n",
    "store_opening =  pd.read_csv('%s/store_openings.csv'%(_DATA_DIR))\n",
    "walmart = temp = pd.merge(store_opening, zips, left_on = ['STRCITY','STRSTATE'],right_on = ['city','state'], how = 'left')\n",
    "walmart.drop_duplicates('storenum', inplace = True)\n",
    "\n",
    "# Get the geometric information\n",
    "geo_walmart = gpd.GeoDataFrame(walmart, geometry=gpd.points_from_xy(walmart.longitude, walmart.latitude))\n",
    "geo_walmart['Date']  = geo_walmart['OPENDATE'].apply(lambda x: x[-5:-1])\n"
   ]
  },
  {
   "cell_type": "code",
   "execution_count": null,
   "id": "f1467519-8da4-418b-b4b8-1df854185bfc",
   "metadata": {},
   "outputs": [],
   "source": [
    "# Get the USA map\n",
    "usa_map = gpd.read_file(\"%s/cb_2018_us_state_20m.shp\"%(_DATA_DIR))\n",
    "#usa = usa_map[~usa_map.NAME.isin(['Alaska','Hawaii','Puerto Rico'])]\n",
    "usa = usa_map[~usa_map.index.isin([7,25,48])]\n",
    "usa.plot()\n",
    "plt.axis('off')"
   ]
  },
  {
   "cell_type": "code",
   "execution_count": null,
   "id": "f61eb02a-ae59-4464-bfdc-44b08d205ad2",
   "metadata": {},
   "outputs": [],
   "source": [
    "plt.figure(figsize = (16,12))\n",
    "ax = usa.boundary.plot(edgecolor = 'black')\n",
    "\n",
    "geo_walmart[(geo_walmart.type_store == 'Supercenter')&(geo_walmart.Date <'1986')].plot(ax=ax, color = 'palegreen',label = 'Supercenter',)\n",
    "geo_walmart[(geo_walmart.type_store == 'Wal-Mart')&(geo_walmart.Date <'1986')].plot(ax=ax, color = 'orange',label = 'Walmat')\n",
    "plt.legend()\n",
    "plt.axis('off')\n",
    "plt.title('Walmart Expansion (1985)')\n",
    "plt.show()"
   ]
  },
  {
   "cell_type": "code",
   "execution_count": null,
   "id": "a3d121a2-d64c-42d8-a670-bc28e5d8f709",
   "metadata": {},
   "outputs": [],
   "source": [
    "plt.figure(figsize = (16,12))\n",
    "ax = usa.boundary.plot(edgecolor = 'black')\n",
    "\n",
    "geo_walmart[(geo_walmart.type_store == 'Supercenter')&(geo_walmart.Date <'1996')].plot(ax=ax, color = 'palegreen',label = 'Supercenter',)\n",
    "geo_walmart[(geo_walmart.type_store == 'Wal-Mart')&(geo_walmart.Date <'1996')].plot(ax=ax, color = 'orange',label = 'Walmat')\n",
    "plt.legend()\n",
    "plt.axis('off')\n",
    "plt.title('Walmart Expansion (1995)')\n",
    "plt.show()"
   ]
  },
  {
   "cell_type": "code",
   "execution_count": null,
   "id": "ed309ad6-df10-4c8a-8f19-3a28ea4f1269",
   "metadata": {},
   "outputs": [],
   "source": [
    "plt.figure(figsize = (16,12))\n",
    "ax = usa.boundary.plot(edgecolor = 'black')\n",
    "\n",
    "geo_walmart[(geo_walmart.type_store == 'Supercenter')&(geo_walmart.Date <'2006')].plot(ax=ax, color = 'palegreen',label = 'Supercenter',)\n",
    "geo_walmart[(geo_walmart.type_store == 'Wal-Mart')&(geo_walmart.Date <'2006')].plot(ax=ax, color = 'orange',label = 'Walmat')\n",
    "plt.legend()\n",
    "plt.axis('off')\n",
    "plt.title('Walmart Expansion (2005)')\n",
    "plt.show()"
   ]
  },
  {
   "cell_type": "markdown",
   "id": "ad1fa96d-ed74-4d5a-89dc-384adcfc5f7c",
   "metadata": {},
   "source": [
    "# Trees "
   ]
  },
  {
   "cell_type": "code",
   "execution_count": null,
   "id": "334e1583-bc19-4c6e-8360-6bb7e5e26b38",
   "metadata": {},
   "outputs": [],
   "source": [
    "from sklearn import datasets\n",
    "from sklearn.tree import DecisionTreeClassifier \n",
    "from sklearn import tree"
   ]
  },
  {
   "cell_type": "code",
   "execution_count": null,
   "id": "e0decb90-412e-423e-abff-1a0a0df34695",
   "metadata": {
    "scrolled": true
   },
   "outputs": [],
   "source": [
    "df = loan[['log_inc', 'int_rate','Paid']].dropna()\n",
    "X = df[['log_inc', 'int_rate']]\n",
    "y = df.Paid\n",
    "\n",
    "# Fit the classifier with default hyper-parameters\n",
    "clf = DecisionTreeClassifier(random_state=1234,max_leaf_nodes=5)\n",
    "model = clf.fit(X, y)"
   ]
  },
  {
   "cell_type": "code",
   "execution_count": null,
   "id": "389aa088-f5ca-453c-850b-c73243500273",
   "metadata": {},
   "outputs": [],
   "source": [
    "text_representation = tree.export_text(clf)\n",
    "print(text_representation)"
   ]
  },
  {
   "cell_type": "code",
   "execution_count": null,
   "id": "bf2df93c-95a4-4287-bb8a-cf114f4cdff4",
   "metadata": {},
   "outputs": [],
   "source": [
    "fig = plt.figure(figsize=(25,20))\n",
    "\n",
    "_ = tree.plot_tree(clf, \n",
    "                   feature_names=['log_inc', 'int_rate'],  \n",
    "                   class_names=['Charged_off','Fully_Paid'],\n",
    "                   filled=True)\n",
    "plt.title('Tree model for predicting default')"
   ]
  },
  {
   "cell_type": "markdown",
   "id": "18ef65ca-2974-4421-ace9-c720a7b560cb",
   "metadata": {},
   "source": [
    "# CNN"
   ]
  },
  {
   "cell_type": "code",
   "execution_count": null,
   "id": "9daf1bbd-a405-4580-a9bf-6d05ac33c391",
   "metadata": {},
   "outputs": [],
   "source": [
    "import random\n",
    "import sys\n",
    "  \n",
    "# adding path to the system path\n",
    "sys.path.insert(0, '/classes/2080001_spr2022')\n",
    "  \n",
    "from data_utils import load_CIFAR10\n",
    "\n",
    "plt.rcParams['figure.figsize'] = (10.0, 8.0) # set default size of plots\n",
    "\n",
    "# Load the raw CIFAR-10 data.\n",
    "cifar10_dir = '%s/cifar-10-data'%(_DATA_DIR)\n",
    "\n",
    "X, Y, _, _ = load_CIFAR10(cifar10_dir)"
   ]
  },
  {
   "cell_type": "code",
   "execution_count": null,
   "id": "1b7d9c34-b38f-400d-8433-0e31e9582f62",
   "metadata": {},
   "outputs": [],
   "source": [
    "# Visualize some examples from the dataset.\n",
    "classes = ['plane','car','bird','cat','deer','dog','frog','horse','ship','truck']\n",
    "#classes = ['plane', 'car','bird', 'cat']\n",
    "num_classes = len(classes)\n",
    "samples_per_class = 10\n",
    "for y, cls in enumerate(classes):\n",
    "    idxs = np.flatnonzero(Y == y)\n",
    "    idxs = np.random.choice(idxs, samples_per_class, replace=False)\n",
    "    for i, idx in enumerate(idxs):\n",
    "        plt_idx = i * num_classes + y + 1\n",
    "        plt.subplot(samples_per_class, num_classes, plt_idx)\n",
    "        plt.imshow(X[idx].astype('uint8'))\n",
    "        plt.axis('off')\n",
    "        if i == 0:\n",
    "            plt.title(cls)\n",
    "# plt.savefig('%s/Graph/Graph_visualiza_1.pdf'%(_FIGURE_DIR))\n",
    "plt.show()\n"
   ]
  },
  {
   "cell_type": "markdown",
   "id": "204486dc-239e-4724-98f8-e13eac7e78f9",
   "metadata": {},
   "source": [
    "## MINST"
   ]
  },
  {
   "cell_type": "code",
   "execution_count": null,
   "id": "10a4a4a0-1443-4d25-99f7-16c448e84da5",
   "metadata": {},
   "outputs": [],
   "source": [
    "from __future__ import print_function\n",
    "import time\n",
    "import numpy as np\n",
    "import pandas as pd\n",
    "from sklearn.datasets import load_digits \n",
    "from sklearn.decomposition import PCA\n",
    "from sklearn.manifold import TSNE\n",
    "%matplotlib inline\n",
    "import matplotlib.pyplot as plt\n",
    "from mpl_toolkits.mplot3d import Axes3D\n",
    "import seaborn as sns"
   ]
  },
  {
   "cell_type": "code",
   "execution_count": null,
   "id": "0e070c92-1b33-4b0b-b215-a403599fedcf",
   "metadata": {},
   "outputs": [],
   "source": [
    "mnist= load_digits()\n",
    "X = mnist.data / 255.0\n",
    "y = mnist.target\n",
    "print(X.shape, y.shape)\n"
   ]
  },
  {
   "cell_type": "code",
   "execution_count": null,
   "id": "3cce6d97-1271-4c91-a290-c3e749a3ab56",
   "metadata": {},
   "outputs": [],
   "source": [
    "feat_cols = [ 'pixel'+str(i) for i in range(X.shape[1]) ]\n",
    "df = pd.DataFrame(X,columns=feat_cols)\n",
    "df['y'] = y\n",
    "df['label'] = df['y'].apply(lambda i: str(i))\n",
    "X, y = None, None\n",
    "print('Size of the dataframe: {}'.format(df.shape))\n",
    "\n"
   ]
  },
  {
   "cell_type": "code",
   "execution_count": null,
   "id": "e82efb2b-45e2-467a-b0cf-6807b61b9fb7",
   "metadata": {},
   "outputs": [],
   "source": [
    "np.random.seed(42)\n",
    "rndperm = np.random.permutation(df.shape[0])"
   ]
  },
  {
   "cell_type": "code",
   "execution_count": null,
   "id": "9613ede8-2871-40e3-87bf-5a9a47acfddb",
   "metadata": {},
   "outputs": [],
   "source": [
    "for i in range(1,11):\n",
    "    plt.subplot(2,5,i)\n",
    "    plt.imshow(mnist.data[i-1].reshape([8,8]),cmap = plt.cm.gray_r)\n",
    "    plt.text(3,10,str(mnist.target[i-1]))\n",
    "    plt.xticks([])\n",
    "    plt.yticks([])"
   ]
  },
  {
   "cell_type": "code",
   "execution_count": null,
   "id": "14c05e97-d2ae-4d3f-b9ff-01d1b6999feb",
   "metadata": {},
   "outputs": [],
   "source": [
    "N = 10000\n",
    "df_subset = df.loc[rndperm[:N],:].copy()\n",
    "data_subset = df_subset[feat_cols].values\n",
    "pca = PCA(n_components=3)\n",
    "pca_result = pca.fit_transform(data_subset)\n",
    "df_subset['pca-one'] = pca_result[:,0]\n",
    "df_subset['pca-two'] = pca_result[:,1] \n",
    "\n"
   ]
  },
  {
   "cell_type": "code",
   "execution_count": null,
   "id": "cbaa19b0-fec7-4feb-bec8-fbf667d03e28",
   "metadata": {},
   "outputs": [],
   "source": [
    "tsne = TSNE(n_components=2, verbose=1, perplexity=40, n_iter=300)\n",
    "tsne_results = tsne.fit_transform(data_subset)\n",
    "\n"
   ]
  },
  {
   "cell_type": "code",
   "execution_count": null,
   "id": "43b2b416-7dd9-4d07-a2be-d650e46ba94b",
   "metadata": {},
   "outputs": [],
   "source": [
    "df_subset['tsne-2d-one'] = tsne_results[:,0]\n",
    "df_subset['tsne-2d-two'] = tsne_results[:,1]"
   ]
  },
  {
   "cell_type": "code",
   "execution_count": null,
   "id": "efd6b3d9-9173-4b2b-98c7-88b9a758ee0b",
   "metadata": {},
   "outputs": [],
   "source": [
    "plt.figure(figsize=(16,7))\n",
    "ax1 = plt.subplot(1, 2, 1)\n",
    "sns.scatterplot(\n",
    "    x=\"pca-one\", y=\"pca-two\",\n",
    "    hue=\"y\",\n",
    "    palette=sns.color_palette(\"hls\", 10),\n",
    "    data=df_subset,\n",
    "    legend=\"full\",\n",
    "    alpha=0.3,\n",
    "    ax=ax1\n",
    ")\n",
    "ax2 = plt.subplot(1, 2, 2)\n",
    "sns.scatterplot(\n",
    "    x=\"tsne-2d-one\", y=\"tsne-2d-two\",\n",
    "    hue=\"y\",\n",
    "    palette=sns.color_palette(\"hls\", 10),\n",
    "    data=df_subset,\n",
    "    legend=\"full\",\n",
    "    alpha=0.3,\n",
    "    ax=ax2\n",
    ")"
   ]
  },
  {
   "cell_type": "markdown",
   "id": "9ec20142-73cd-4892-9de2-92b23dc370ba",
   "metadata": {},
   "source": [
    "# Text"
   ]
  },
  {
   "cell_type": "code",
   "execution_count": null,
   "id": "e86267ab-f3f9-4287-bd1b-1485dd36bfd1",
   "metadata": {},
   "outputs": [],
   "source": [
    "# !pip install wordcloud"
   ]
  },
  {
   "cell_type": "code",
   "execution_count": null,
   "id": "8dd5a86b-0ef3-45ad-a65d-dd2506872751",
   "metadata": {},
   "outputs": [],
   "source": [
    "from wordcloud import WordCloud\n",
    "\n",
    "Trump_word_importance = pd.read_csv('%s/Trump_word_importance.csv'%(_DATA_DIR), index_col = 0)\n",
    "wc = WordCloud(\n",
    "    background_color='white', \n",
    "    max_words=200, \n",
    "    max_font_size=100 , \n",
    "    scale=32)\n",
    "\n",
    "wc.generate_from_frequencies(dict(Trump_word_importance['Occurance']))\n",
    "\n",
    "plt.figure(figsize = (16,12))\n",
    "plt.imshow(wc)\n",
    "plt.axis('off')\n"
   ]
  },
  {
   "cell_type": "code",
   "execution_count": null,
   "id": "4469ae51-58df-40c0-95c3-3c607fa1923e",
   "metadata": {},
   "outputs": [],
   "source": [
    "from sklearn.manifold import TSNE\n",
    "\n",
    "\n",
    "# Load topic model dataset\n",
    "hm = pd.read_csv('%s/Topic_model_result.csv'%(_DATA_DIR), index_col = 0)\n",
    "hm = np.array(hm)\n",
    "\n",
    "\n",
    "tsne = TSNE(random_state=2022, perplexity=30, early_exaggeration=120)\n",
    "embedding = tsne.fit_transform(hm)\n",
    "embedding = pd.DataFrame(embedding, columns=['x','y'])\n",
    "embedding['hue'] = hm.argmax(axis=1)\n",
    "plt.figure(figsize = (12,12))\n",
    "sns.scatterplot(x='x',y='y',hue='hue', data = embedding)\n",
    "plt.xlabel('Dimension 1')\n",
    "plt.ylabel('Dimension 2')\n",
    "plt.title('Topic model dimension reduction with t-SNE')\n",
    "\n",
    "plt.show()\n"
   ]
  },
  {
   "cell_type": "code",
   "execution_count": null,
   "id": "c19e4fa1-a1ae-4d12-86bf-26cffde66aca",
   "metadata": {},
   "outputs": [],
   "source": []
  }
 ],
 "metadata": {
  "kernelspec": {
   "display_name": "Python 3 (ipykernel)",
   "language": "python",
   "name": "python3"
  },
  "language_info": {
   "codemirror_mode": {
    "name": "ipython",
    "version": 3
   },
   "file_extension": ".py",
   "mimetype": "text/x-python",
   "name": "python",
   "nbconvert_exporter": "python",
   "pygments_lexer": "ipython3",
   "version": "3.10.9"
  }
 },
 "nbformat": 4,
 "nbformat_minor": 5
}
