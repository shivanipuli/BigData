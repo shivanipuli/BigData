{
 "cells": [
  {
   "cell_type": "code",
   "execution_count": null,
   "metadata": {},
   "outputs": [],
   "source": [
    "import numpy as np\n",
    "import pandas as pd\n",
    "import warnings\n",
    "warnings.filterwarnings('ignore')\n",
    "from collections import Counter\n",
    "from tqdm.notebook import tqdm\n",
    "\n",
    "import matplotlib.pyplot as plt\n",
    "plt.rc('font', size=14)\n",
    "#import seaborn as sns\n",
    "#sns.set(style='whitegrid', color_codes=True, rc={'figure.figsize':(11,8)}, font_scale=2)\n",
    "\n",
    "from sklearn.cluster import KMeans"
   ]
  },
  {
   "cell_type": "code",
   "execution_count": null,
   "metadata": {},
   "outputs": [],
   "source": [
    "_DATA_DIR = '/classes/20800_winter2024/Data'"
   ]
  },
  {
   "cell_type": "markdown",
   "metadata": {},
   "source": [
    "# K-means example\n"
   ]
  },
  {
   "cell_type": "markdown",
   "metadata": {},
   "source": [
    "## Generate Data"
   ]
  },
  {
   "cell_type": "code",
   "execution_count": null,
   "metadata": {},
   "outputs": [],
   "source": [
    "def show_clusters(kmeans,X,iteration):\n",
    "    y=kmeans.predict(X)\n",
    "    plt.figure(figsize = (8,6))\n",
    "    edgecolor=['blue','red','green',\"magenta\"]\n",
    "    plt.title(f\"WCV = {round(kmeans.inertia_,2)}\")\n",
    "    for i in range(kmeans.n_clusters):\n",
    "        plt.plot(X[y==i,0],X[y==i,1],'o',markerfacecolor=\"none\", markeredgecolor=edgecolor[i],markersize=6)\n",
    "        plt.plot(kmeans.cluster_centers_[i,0],kmeans.cluster_centers_[i,1],'o',markeredgecolor=\"black\",markerfacecolor=edgecolor[i],markersize=10)\n",
    "        plt.savefig('k_means_%s.pdf'%(iteration+1))"
   ]
  },
  {
   "cell_type": "code",
   "execution_count": null,
   "metadata": {},
   "outputs": [],
   "source": [
    "np.random.seed(0)\n",
    "Xg1 =  0.15*np.random.randn(100,2)\n",
    "Xg2 =  0.2 *np.random.randn(100,2) + [0,1];\n",
    "Xg3 =  0.25*np.random.randn(100,2) + [1,1];\n",
    "X   =  np.vstack((Xg1,Xg2,Xg3))\n",
    "ii  =  np.array(range(X.shape[0]))\n",
    "np.random.shuffle(ii)\n",
    "X   =  X[ii]"
   ]
  },
  {
   "cell_type": "code",
   "execution_count": null,
   "metadata": {},
   "outputs": [],
   "source": [
    "plt.figure(figsize = (8,6))\n",
    "plt.plot(Xg1[:,0],Xg1[:,1],'o',markerfacecolor=\"none\", markeredgecolor='black',markersize=6)\n",
    "plt.plot(Xg2[:,0],Xg2[:,1],'o', markerfacecolor=\"none\",markeredgecolor='black',markersize=6)\n",
    "plt.plot(Xg3[:,0],Xg3[:,1],'o', markerfacecolor=\"none\",markeredgecolor='black',markersize=6)\n",
    "plt.plot(0,0.5,'o',color = 'blue',markersize=10)\n",
    "plt.plot(0.5,1,'o',color=\"red\",markersize=10)\n",
    "plt.plot(1,0,'o',color=\"green\",markersize=10)\n",
    "plt.title(\"initial center\")\n",
    "plt.savefig('k_means_0.pdf')\n",
    "plt.show()"
   ]
  },
  {
   "cell_type": "code",
   "execution_count": null,
   "metadata": {},
   "outputs": [],
   "source": [
    "init_centers=np.array([[0,0.5],[0.5,1],[1,0]])\n",
    "num_iters=10\n",
    "for i in range(num_iters):\n",
    "    kmeans = KMeans(n_clusters=3,init=init_centers,n_init=1,max_iter=1)\n",
    "    kmeans.fit(X)\n",
    "    show_clusters(kmeans,X,i)\n",
    "    init_centers=kmeans.cluster_centers_"
   ]
  },
  {
   "cell_type": "code",
   "execution_count": null,
   "metadata": {},
   "outputs": [],
   "source": [
    "np.around(kmeans.cluster_centers_,2)"
   ]
  },
  {
   "cell_type": "code",
   "execution_count": null,
   "metadata": {},
   "outputs": [],
   "source": [
    "Counter(kmeans.labels_)"
   ]
  },
  {
   "cell_type": "code",
   "execution_count": null,
   "metadata": {},
   "outputs": [],
   "source": [
    "round(kmeans.inertia_,2)"
   ]
  },
  {
   "cell_type": "markdown",
   "metadata": {},
   "source": [
    "# K-means example,  multiple runs"
   ]
  },
  {
   "cell_type": "markdown",
   "metadata": {},
   "source": [
    "## Generate data"
   ]
  },
  {
   "cell_type": "code",
   "execution_count": null,
   "metadata": {},
   "outputs": [],
   "source": [
    "np.random.seed(0)\n",
    "Xg1 =  0.15*np.random.randn(60,2)\n",
    "Xg2 =  0.2*np.random.randn(60,2) + [0.25,0.5];\n",
    "Xg3 =  0.2*np.random.randn(60,2) + [1,0];\n",
    "Xg4  = 0.2*np.random.randn(70,2) + [1,1];\n",
    "X=np.vstack((Xg1,Xg2,Xg3,Xg4))\n",
    "ii=np.array(range(X.shape[0]))\n",
    "np.random.shuffle(ii)\n",
    "X=X[ii]"
   ]
  },
  {
   "cell_type": "code",
   "execution_count": null,
   "metadata": {},
   "outputs": [],
   "source": [
    "plt.figure(figsize = (8,6))\n",
    "plt.plot(X[:,0],X[:,1],'o',markerfacecolor=\"none\", markeredgecolor='black',markersize=6)\n",
    "plt.show()"
   ]
  },
  {
   "cell_type": "markdown",
   "metadata": {},
   "source": [
    "## n = 250, K = 4, Try different initial centers\n"
   ]
  },
  {
   "cell_type": "code",
   "execution_count": null,
   "metadata": {},
   "outputs": [],
   "source": [
    "np.random.seed(100)\n",
    "for i in range(5):        \n",
    "    kmeans=KMeans(n_clusters=4,init='random',n_init=1,max_iter=10)\n",
    "    kmeans.fit(X)\n",
    "    show_clusters(kmeans,X,i)\n",
    "    init_centers=kmeans.cluster_centers_"
   ]
  },
  {
   "cell_type": "markdown",
   "metadata": {},
   "source": [
    "# MNIST Data"
   ]
  },
  {
   "cell_type": "markdown",
   "metadata": {},
   "source": [
    "### load data"
   ]
  },
  {
   "cell_type": "code",
   "execution_count": null,
   "metadata": {},
   "outputs": [],
   "source": [
    "raw_data = np.load('%s/MNIST_data.npy'%(_DATA_DIR))\n",
    "label    = np.load('%s/MNIST_labels.npy'%(_DATA_DIR))\n",
    "data = raw_data/255"
   ]
  },
  {
   "cell_type": "code",
   "execution_count": null,
   "metadata": {},
   "outputs": [],
   "source": [
    "data.shape"
   ]
  },
  {
   "cell_type": "code",
   "execution_count": null,
   "metadata": {},
   "outputs": [],
   "source": [
    "nrows = 3;\n",
    "ncols = 5;\n",
    "plt.figure(figsize = (12, 6))\n",
    "for i in range(nrows*ncols):\n",
    "    plt.subplot(nrows,ncols,i+1)\n",
    "    plt.imshow(data[i].reshape((28,28)), cmap = 'gray')\n",
    "    plt.axis('off')\n",
    "plt.savefig('MNIST_ex.pdf')    \n",
    "plt.show()"
   ]
  },
  {
   "cell_type": "markdown",
   "metadata": {},
   "source": [
    "### Split training and testing data set"
   ]
  },
  {
   "cell_type": "code",
   "execution_count": null,
   "metadata": {},
   "outputs": [],
   "source": [
    "train_X = data[:60000]\n",
    "test_X = data[60000:]\n",
    "train_label = label[:60000]\n",
    "test_label = label[60000:]"
   ]
  },
  {
   "cell_type": "markdown",
   "metadata": {},
   "source": [
    "### Training KMeans with K = 10"
   ]
  },
  {
   "cell_type": "code",
   "execution_count": null,
   "metadata": {},
   "outputs": [],
   "source": [
    "K = 10\n",
    "model = KMeans(n_clusters = K)\n",
    "digit_model = model.fit(train_X)\n",
    "predict_cluster = digit_model.predict(train_X)\n"
   ]
  },
  {
   "cell_type": "markdown",
   "metadata": {},
   "source": [
    "### Model Diagnosis"
   ]
  },
  {
   "cell_type": "code",
   "execution_count": null,
   "metadata": {},
   "outputs": [],
   "source": [
    "def diagnosis_MNIST(K, predict_cluster):\n",
    "### plot center of cluster\n",
    "    plt.figure(figsize = (10,(K//5)*2))\n",
    "    plt.rc('font', size=10)\n",
    "    cluster_digit_label = []\n",
    "    print('The center of each cluster')\n",
    "    for i in range(K):\n",
    "        plt.subplot(K//5,5,i+1)\n",
    "        plt.imshow(digit_model.cluster_centers_[i].reshape((28,28)), cmap = 'gray')\n",
    "        plt.axis('off')\n",
    "        cluster_points_label = train_label[predict_cluster == i]\n",
    "        label = np.argmax(np.bincount(cluster_points_label))\n",
    "        cluster_digit_label.append(label)\n",
    "        plt.title(f'Digit Label = {label}')\n",
    "    plt.show()\n",
    "    \n",
    "    ### Use marjority label of the cluster as the cluster label and calculate accuracy on train data\n",
    "    correct_point_number = 0\n",
    "    for i in range(K):\n",
    "        plt.figure(figsize = (10,4))\n",
    "        predict_label = cluster_digit_label[i]\n",
    "        print(f'The majority label of each cluster: {predict_label}')\n",
    "        cluster_points_label = train_label[predict_cluster == i]\n",
    "        cluster_points = train_X[predict_cluster == i]\n",
    "        correct_point_number += sum(cluster_points_label == predict_label)\n",
    "        n = len(cluster_points)\n",
    "        \n",
    "        ### show 10 figure of each cluster\n",
    "        for j in range(10):\n",
    "            idx = np.random.randint(n)\n",
    "            point = cluster_points[idx]\n",
    "            true_label = cluster_points_label[idx]\n",
    "            plt.subplot(2,5,j+1)\n",
    "            plt.imshow(point.reshape((28,28)), cmap = 'gray')\n",
    "            plt.axis('off')\n",
    "            label = np.argmax(np.bincount(cluster_points_label))\n",
    "            plt.title(f'True Label = {true_label}')\n",
    "        plt.show()\n",
    "        \n",
    "    accuracy = correct_point_number/train_X.shape[0]\n",
    "    \n",
    "    print(\"If using the majority label in the clusters as the predicted label, \",\n",
    "          \"the model has the accuracy of :\", np.round(accuracy * 100, 4), \n",
    "          \"% on training data set.\")\n",
    "    \n",
    "    ### accuracy on test data\n",
    "    correct_point_number = 0\n",
    "    predicted_test_label = digit_model.predict(test_X)\n",
    "    for i in range(K):\n",
    "        predict_label = cluster_digit_label[i]\n",
    "        cluster_points_label = test_label[predicted_test_label == i]\n",
    "        cluster_points = test_X[predicted_test_label == i]\n",
    "        correct_point_number += sum(cluster_points_label == predict_label)\n",
    "    accuracy = correct_point_number/test_X.shape[0]\n",
    "    \n",
    "    print(\"If using the majority label in the clusters as the predicted label, \",\n",
    "          \"the model has the accuracy of :\", np.round(accuracy * 100, 4), \n",
    "          \"% on testing data set.\")"
   ]
  },
  {
   "cell_type": "code",
   "execution_count": null,
   "metadata": {},
   "outputs": [],
   "source": [
    "diagnosis_MNIST(10, predict_cluster)"
   ]
  },
  {
   "cell_type": "markdown",
   "metadata": {},
   "source": [
    "### Select K by AIC and BIC "
   ]
  },
  {
   "cell_type": "code",
   "execution_count": null,
   "metadata": {},
   "outputs": [],
   "source": [
    "def get_bic(k):\n",
    "    grp = KMeans(n_clusters= k)\n",
    "    grp.fit(train_X)\n",
    "    bic = grp.inertia_ + k*train_X.shape[1]*np.log(train_X.shape[0])\n",
    "    return bic"
   ]
  },
  {
   "cell_type": "code",
   "execution_count": null,
   "metadata": {},
   "outputs": [],
   "source": []
  },
  {
   "cell_type": "code",
   "execution_count": null,
   "metadata": {},
   "outputs": [],
   "source": [
    "BIC = []\n",
    "for k in  tqdm(range(10, 60, 10)):\n",
    "    bic = get_bic(k)\n",
    "    BIC.append(bic)\n",
    "    \n",
    "plt.figure(figsize = (12,6))\n",
    "plt.rc('font', size=14)\n",
    "plt.plot(np.arange(10,60,10),BIC)\n",
    "ks = np.arange(10,60,10)\n",
    "k_min = ks[np.argmin(BIC)]\n",
    "plt.axvline(k_min,linestyle='--', color='b',\n",
    "            label='K chosen by BIC')\n",
    "plt.xlabel(\"K\")\n",
    "plt.ylabel(\"BIC\")\n",
    "plt.title(\"Use BIC to choose K\")\n",
    "plt.legend()\n",
    "plt.show()"
   ]
  },
  {
   "cell_type": "code",
   "execution_count": null,
   "metadata": {},
   "outputs": [],
   "source": [
    "def get_aic(k):\n",
    "    grp = KMeans(n_clusters= k)\n",
    "    grp.fit(train_X)\n",
    "    aic = grp.inertia_ + 2*k*train_X.shape[1]\n",
    "    return aic "
   ]
  },
  {
   "cell_type": "code",
   "execution_count": null,
   "metadata": {},
   "outputs": [],
   "source": [
    "AIC = []\n",
    "for k in  tqdm(range(10, 200, 30)):\n",
    "    aic = get_aic(k)\n",
    "    AIC.append(aic)\n",
    "    \n",
    "plt.figure(figsize = (12,6))\n",
    "plt.rc('font', size=14)\n",
    "plt.plot(np.arange(10,200,30),AIC)\n",
    "ks = np.arange(10,200,30)\n",
    "k_min = ks[np.argmin(AIC)]\n",
    "plt.axvline(k_min,linestyle='--', color='b',\n",
    "            label='K chosen by AIC')\n",
    "plt.xlabel(\"K\")\n",
    "plt.ylabel(\"AIC\")\n",
    "plt.title(\"Use AIC to choose K\")\n",
    "plt.legend()\n",
    "plt.show()"
   ]
  },
  {
   "cell_type": "code",
   "execution_count": null,
   "metadata": {},
   "outputs": [],
   "source": [
    "k_min"
   ]
  },
  {
   "cell_type": "markdown",
   "metadata": {},
   "source": [
    "### Train a model with larger K"
   ]
  },
  {
   "cell_type": "code",
   "execution_count": null,
   "metadata": {},
   "outputs": [],
   "source": [
    "K = 30\n",
    "model = KMeans(n_clusters = K)\n",
    "digit_model = model.fit(train_X)\n",
    "predict_cluster = digit_model.predict(train_X)"
   ]
  },
  {
   "cell_type": "code",
   "execution_count": null,
   "metadata": {},
   "outputs": [],
   "source": [
    "diagnosis_MNIST(30, predict_cluster)"
   ]
  },
  {
   "cell_type": "markdown",
   "metadata": {},
   "source": [
    "# When K-means fail"
   ]
  },
  {
   "cell_type": "markdown",
   "metadata": {},
   "source": [
    "## Revisit the simulated data in lecture 4"
   ]
  },
  {
   "cell_type": "code",
   "execution_count": null,
   "metadata": {},
   "outputs": [],
   "source": [
    "from sklearn.datasets import make_moons, make_circles, make_blobs\n",
    "from sklearn.mixture import GaussianMixture\n",
    "from sklearn.cluster import SpectralClustering"
   ]
  },
  {
   "cell_type": "code",
   "execution_count": null,
   "metadata": {},
   "outputs": [],
   "source": [
    "def visualize(y_true, y_predict, method):\n",
    "    colors = ['red','green','blue']\n",
    "    plt.figure(figsize = (16,8))\n",
    "    plt.subplot(1,2,1)\n",
    "    plt.scatter(X[:,0], X[:,1],linewidth=0, c = [colors[i] for i in y])\n",
    "    plt.title('True cluster')\n",
    "    plt.subplot(1,2,2)\n",
    "    plt.scatter(X[:, 0], X[:, 1], linewidth=0,c=[colors[i] for i in y_predict])\n",
    "    plt.title('%s cluster'%(method))\n",
    "    if (method == 'k-means'):\n",
    "        for cluster_x, cluster_y in Kmean.cluster_centers_:\n",
    "            plt.scatter(cluster_x, cluster_y, s=500, c='black', marker='x', linewidth = 5)"
   ]
  },
  {
   "cell_type": "code",
   "execution_count": null,
   "metadata": {},
   "outputs": [],
   "source": [
    "# DGP\n",
    "np.random.seed(0)\n",
    "\n",
    "n_samples = 1500\n",
    "\n",
    "# Generate data\n",
    "label = [0] * n_samples\n",
    "for i in np.random.randint(0,n_samples,int(n_samples/2)):\n",
    "    label[i] = 1\n",
    "    \n",
    "noisy_circles = make_circles(n_samples=n_samples, factor=0.5, noise=0.05)\n",
    "noisy_moons = make_moons(n_samples=n_samples, noise=0.05)\n",
    "balanced = make_blobs(n_samples=n_samples, random_state=8,centers=2,center_box = (-4,4))\n",
    "imbalanced = make_blobs(n_samples = [n_samples, 100],random_state = 8, cluster_std = [1.5,0.1],center_box = (-3,3))\n",
    "no_structure = np.random.rand(n_samples, 2), label"
   ]
  },
  {
   "cell_type": "code",
   "execution_count": null,
   "metadata": {},
   "outputs": [],
   "source": [
    "X,y = noisy_circles\n",
    "Kmean = KMeans(n_clusters=2)\n",
    "Kmean.fit(X)\n",
    "clusters = Kmean.predict(X)\n",
    "visualize(y, clusters, 'k-means')"
   ]
  },
  {
   "cell_type": "code",
   "execution_count": null,
   "metadata": {},
   "outputs": [],
   "source": [
    "Spectral = SpectralClustering(n_clusters=2, affinity='nearest_neighbors', assign_labels='kmeans')\n",
    "spectral_clusters = Spectral.fit_predict(X)\n",
    "visualize(y, spectral_clusters, 'spectral')"
   ]
  },
  {
   "cell_type": "code",
   "execution_count": null,
   "metadata": {},
   "outputs": [],
   "source": [
    "gmm = GaussianMixture(n_components=2)\n",
    "gmm.fit(X)\n",
    "gmm_clusters = gmm.predict(X)\n",
    "visualize(y, gmm_clusters, 'GaussianMixture')"
   ]
  },
  {
   "cell_type": "code",
   "execution_count": null,
   "metadata": {},
   "outputs": [],
   "source": [
    "X,y= noisy_moons\n",
    "Kmean = KMeans(n_clusters=2)\n",
    "Kmean.fit(X)\n",
    "clusters = Kmean.predict(X)\n",
    "visualize(y, clusters, 'k-means')"
   ]
  },
  {
   "cell_type": "code",
   "execution_count": null,
   "metadata": {},
   "outputs": [],
   "source": [
    "Spectral = SpectralClustering(n_clusters=2, affinity='nearest_neighbors', assign_labels='kmeans')\n",
    "spectral_clusters = Spectral.fit_predict(X)\n",
    "visualize(y, spectral_clusters, 'spectral')"
   ]
  },
  {
   "cell_type": "code",
   "execution_count": null,
   "metadata": {},
   "outputs": [],
   "source": [
    "gmm = GaussianMixture(n_components=2)\n",
    "gmm.fit(X)\n",
    "gmm_clusters = gmm.predict(X)\n",
    "visualize(y, gmm_clusters, 'GaussianMixture')"
   ]
  },
  {
   "cell_type": "code",
   "execution_count": null,
   "metadata": {},
   "outputs": [],
   "source": [
    "# Different variance\n",
    "n_samples = 1500\n",
    "random_state=170\n",
    "X, y = make_blobs(n_samples=n_samples, cluster_std=[1.0, 2.5, 0.5], random_state=random_state)\n",
    "Kmean = KMeans(n_clusters=3, random_state=random_state)"
   ]
  },
  {
   "cell_type": "code",
   "execution_count": null,
   "metadata": {},
   "outputs": [],
   "source": [
    "Kmean = KMeans(n_clusters=3, random_state=random_state)\n",
    "clusters = Kmean.fit_predict(X)\n",
    "visualize(y, clusters, 'k-means')"
   ]
  },
  {
   "cell_type": "code",
   "execution_count": null,
   "metadata": {},
   "outputs": [],
   "source": [
    "Spectral = SpectralClustering(n_clusters=3, affinity='nearest_neighbors', assign_labels='kmeans')\n",
    "spectral_clusters = Spectral.fit_predict(X)\n",
    "visualize(y, spectral_clusters, 'spectral')"
   ]
  },
  {
   "cell_type": "code",
   "execution_count": null,
   "metadata": {},
   "outputs": [],
   "source": [
    "gmm = GaussianMixture(n_components=3)\n",
    "gmm.fit(X)\n",
    "gmm_clusters = gmm.predict(X)\n",
    "visualize(y, gmm_clusters, 'GaussianMixture')"
   ]
  },
  {
   "cell_type": "code",
   "execution_count": null,
   "metadata": {},
   "outputs": [],
   "source": [
    "# Anisotropicly distributed data\n",
    "X, y = make_blobs(n_samples=n_samples, random_state=random_state)\n",
    "transformation = [[0.60834549, -0.63667341], [-0.40887718, 0.85253229]]\n",
    "X = np.dot(X, transformation)"
   ]
  },
  {
   "cell_type": "code",
   "execution_count": null,
   "metadata": {},
   "outputs": [],
   "source": [
    "Kmean = KMeans(n_clusters=3, random_state=random_state)\n",
    "clusters = Kmean.fit_predict(X)\n",
    "visualize(y, clusters, 'k-means')"
   ]
  },
  {
   "cell_type": "code",
   "execution_count": null,
   "metadata": {},
   "outputs": [],
   "source": [
    "Spectral = SpectralClustering(n_clusters=3, affinity='nearest_neighbors', assign_labels='kmeans')\n",
    "spectral_clusters = Spectral.fit_predict(X)\n",
    "visualize(y, spectral_clusters, 'spectral')"
   ]
  },
  {
   "cell_type": "code",
   "execution_count": null,
   "metadata": {},
   "outputs": [],
   "source": [
    "gmm = GaussianMixture(n_components=3)\n",
    "gmm.fit(X)\n",
    "gmm_clusters = gmm.predict(X)\n",
    "visualize(y, gmm_clusters, 'GaussianMixture')"
   ]
  },
  {
   "cell_type": "markdown",
   "metadata": {},
   "source": [
    "# Political Voting clustering"
   ]
  },
  {
   "cell_type": "code",
   "execution_count": null,
   "metadata": {},
   "outputs": [],
   "source": [
    "votes = np.loadtxt('%s/voting_record2005.txt'%(_DATA_DIR),dtype=str,delimiter='\\t')\n",
    "votes = pd.DataFrame(votes)\n",
    "\n",
    "for i in range(votes.shape[1]-1):\n",
    "    votes.iloc[:,i] = votes.iloc[:,i].astype('float')\n",
    "    \n",
    "votes = votes.iloc[:,:-1]\n",
    "\n",
    "n = votes.shape[0]\n",
    "m = votes.shape[1]"
   ]
  },
  {
   "cell_type": "code",
   "execution_count": null,
   "metadata": {},
   "outputs": [],
   "source": [
    "from scipy.spatial.distance import pdist\n",
    "\n",
    "dist1 = pd.DataFrame(index = range(n), columns = range(n))\n",
    "for i in range(n):\n",
    "    for j in range(n):\n",
    "        dist1.iloc[i,j] = float(pdist(votes.iloc[[i,j],:].values.astype(float),'cityblock'))"
   ]
  },
  {
   "cell_type": "code",
   "execution_count": null,
   "metadata": {},
   "outputs": [],
   "source": [
    "W = pd.DataFrame(index = range(n), columns = range(n))\n",
    "for i in range(n):\n",
    "    W.iloc[:,i] = dist1.iloc[:,i].apply(lambda x: np.exp(-x/m))"
   ]
  },
  {
   "cell_type": "code",
   "execution_count": null,
   "metadata": {},
   "outputs": [],
   "source": [
    "G = np.diag(W.sum()).astype(float)\n",
    "L = np.eye(n) - np.linalg.inv(G) @ W\n",
    "L = L.astype(float)"
   ]
  },
  {
   "cell_type": "code",
   "execution_count": null,
   "metadata": {},
   "outputs": [],
   "source": [
    "eig_val,eig_vec =  np.linalg.eig(L)\n",
    "eig_vec = pd.DataFrame(eig_vec)"
   ]
  },
  {
   "cell_type": "code",
   "execution_count": null,
   "metadata": {},
   "outputs": [],
   "source": [
    "eig_vec"
   ]
  },
  {
   "cell_type": "code",
   "execution_count": null,
   "metadata": {},
   "outputs": [],
   "source": [
    "parties = np.loadtxt('%s/house_party2005.txt'%(_DATA_DIR),dtype=str,delimiter='\\t')\n",
    "parties = pd.DataFrame(parties).iloc[:-1,:]\n",
    "parties.columns = ['Party']\n",
    "parties = parties.astype('float')"
   ]
  },
  {
   "cell_type": "code",
   "execution_count": null,
   "metadata": {},
   "outputs": [],
   "source": [
    "members = np.loadtxt('%s/house_members2005.txt'%(_DATA_DIR),dtype=str,delimiter='\\t')\n",
    "members = pd.DataFrame(members)\n",
    "members.columns = ['ID','Name','Group','State']"
   ]
  },
  {
   "cell_type": "code",
   "execution_count": null,
   "metadata": {},
   "outputs": [],
   "source": [
    "result = pd.DataFrame({'Name':members.Name,'second_eig': -eig_vec.iloc[:,1],'Group':members.Group})\n",
    "result.sort_values('second_eig')"
   ]
  },
  {
   "cell_type": "code",
   "execution_count": null,
   "metadata": {},
   "outputs": [],
   "source": []
  },
  {
   "cell_type": "code",
   "execution_count": null,
   "metadata": {},
   "outputs": [],
   "source": [
    "from sklearn.manifold import TSNE \n",
    "\n",
    "tsne = TSNE()\n",
    "tsne.fit_transform(votes)\n",
    "tsne = pd.DataFrame(tsne.embedding_, index = votes.index) \n",
    "\n",
    "G1 =parties[parties.Party ==1].index.tolist()\n",
    "G2 =parties[parties.Party ==0].index.tolist()"
   ]
  },
  {
   "cell_type": "code",
   "execution_count": null,
   "metadata": {},
   "outputs": [],
   "source": [
    "plt.figure(figsize = (12,8))\n",
    "plt.plot(tsne.iloc[G1,0],tsne.iloc[G1,1],'o',c = 'red')\n",
    "plt.plot(tsne.iloc[G2,0],tsne.iloc[G2,1],'o',c = 'blue')\n",
    "plt.savefig('tsne.pdf')\n",
    "plt.show()"
   ]
  },
  {
   "cell_type": "markdown",
   "metadata": {},
   "source": [
    "# Hierarchical clustering"
   ]
  },
  {
   "cell_type": "code",
   "execution_count": null,
   "metadata": {},
   "outputs": [],
   "source": [
    "df = pd.read_csv(\"%s/Word_Weights_By_Topic_Phi.csv\"%(_DATA_DIR),index_col = 0)"
   ]
  },
  {
   "cell_type": "code",
   "execution_count": null,
   "metadata": {},
   "outputs": [],
   "source": [
    "df.index.name = \"topic\"\n",
    "df = df.T"
   ]
  },
  {
   "cell_type": "code",
   "execution_count": null,
   "metadata": {},
   "outputs": [],
   "source": [
    "import scipy.cluster.hierarchy as shc\n",
    "plt.figure(figsize = (16,40))\n",
    "plt.title(\"Hierarchical Taxonomy of WSJ News\")  \n",
    "dend = shc.dendrogram(shc.linkage(df, method='ward'),labels=df.index,orientation='left',leaf_font_size = 12)"
   ]
  },
  {
   "cell_type": "code",
   "execution_count": null,
   "metadata": {},
   "outputs": [],
   "source": []
  }
 ],
 "metadata": {
  "kernelspec": {
   "display_name": "Python 3 (ipykernel)",
   "language": "python",
   "name": "python3"
  },
  "language_info": {
   "codemirror_mode": {
    "name": "ipython",
    "version": 3
   },
   "file_extension": ".py",
   "mimetype": "text/x-python",
   "name": "python",
   "nbconvert_exporter": "python",
   "pygments_lexer": "ipython3",
   "version": "3.10.9"
  }
 },
 "nbformat": 4,
 "nbformat_minor": 4
}
