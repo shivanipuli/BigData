{
 "cells": [
  {
   "cell_type": "markdown",
   "id": "eef796a8",
   "metadata": {},
   "source": [
    "# Load required packages"
   ]
  },
  {
   "cell_type": "code",
   "execution_count": null,
   "id": "4051a767-253a-4abd-9738-54e3d36a140f",
   "metadata": {},
   "outputs": [],
   "source": [
    "# ! pip install statsmodels # run this if you don't have statsmodels installed"
   ]
  },
  {
   "cell_type": "code",
   "execution_count": null,
   "id": "5a4f9a7f",
   "metadata": {},
   "outputs": [],
   "source": [
    "import pandas as pd\n",
    "import numpy as np\n",
    "import matplotlib.pyplot as plt\n",
    "\n",
    "import statsmodels.api as sm\n",
    "import statsmodels.formula.api as smf\n",
    "\n",
    "import warnings\n",
    "warnings.filterwarnings('ignore') # this is to clear up some warning messages that might pop up\n",
    "\n",
    "# Fancier plot tool\n",
    "import seaborn as sns\n",
    "sns.set_theme(context='notebook', style='whitegrid', palette='deep', font='sans-serif', font_scale=3, color_codes=True,rc={'figure.figsize':(15,10)})"
   ]
  },
  {
   "cell_type": "code",
   "execution_count": null,
   "id": "945f72f5",
   "metadata": {},
   "outputs": [],
   "source": [
    "np.random.seed(42)"
   ]
  },
  {
   "cell_type": "code",
   "execution_count": null,
   "id": "ea610da1",
   "metadata": {},
   "outputs": [],
   "source": [
    "_DATA_DIR = '/classes/20800_winter2024/Data'"
   ]
  },
  {
   "cell_type": "markdown",
   "id": "cdd33887",
   "metadata": {},
   "source": [
    "# Linear regression (orange juice)"
   ]
  },
  {
   "cell_type": "code",
   "execution_count": null,
   "id": "29cd26b0",
   "metadata": {},
   "outputs": [],
   "source": [
    "# read data\n",
    "oj = pd.read_csv('%s/oj.csv'%(_DATA_DIR))"
   ]
  },
  {
   "cell_type": "code",
   "execution_count": null,
   "id": "60905178",
   "metadata": {},
   "outputs": [],
   "source": [
    "oj.head()"
   ]
  },
  {
   "cell_type": "code",
   "execution_count": null,
   "id": "ea55df0b",
   "metadata": {},
   "outputs": [],
   "source": [
    "# Generate the log price and log sales\n",
    "oj['log_price'] = oj['price'].apply(lambda x: np.log(x))\n",
    "oj['log_sales'] = oj['sales'].apply(lambda x: np.log(x))"
   ]
  },
  {
   "cell_type": "code",
   "execution_count": null,
   "id": "6bb93092",
   "metadata": {},
   "outputs": [],
   "source": [
    "oj"
   ]
  },
  {
   "cell_type": "markdown",
   "id": "fd71c841",
   "metadata": {},
   "source": [
    "## Visualization"
   ]
  },
  {
   "cell_type": "code",
   "execution_count": null,
   "id": "ee737e1e",
   "metadata": {},
   "outputs": [],
   "source": [
    "plt.figure(figsize = (16,8))\n",
    "\n",
    "plt.subplot(1, 2, 1)\n",
    "sns.histplot(oj, x=\"price\");\n",
    "plt.title('Histgram for price')\n",
    "\n",
    "plt.subplot(1, 2, 2)\n",
    "sns.histplot(oj, x=\"log_sales\");\n",
    "plt.xlabel('log sales')\n",
    "plt.title('Histgram for loan amount')\n",
    "\n",
    "plt.show()\n",
    "#plt.savefig('histogram_oj.pdf')"
   ]
  },
  {
   "cell_type": "code",
   "execution_count": null,
   "id": "108eb394",
   "metadata": {},
   "outputs": [],
   "source": [
    "plt.figure(figsize = (11,8))\n",
    "\n",
    "sns.boxplot(x=\"brand\",y=\"log_price\",hue=\"feat\",data=oj,palette=\"Set3\")\n",
    "plt.ylabel('log price')\n",
    "plt.title('Conditional Bar plots for log price')\n",
    "plt.show()\n",
    "#plt.savefig('box_oj.pdf')"
   ]
  },
  {
   "cell_type": "code",
   "execution_count": null,
   "id": "f8c92647",
   "metadata": {},
   "outputs": [],
   "source": [
    "plt.figure(figsize = (11,8))\n",
    "\n",
    "sns.scatterplot(x='log_price',y='log_sales',hue='brand', data = oj)\n",
    "plt.xlabel('log price')\n",
    "plt.ylabel('log sales')\n",
    "plt.title('Scatter plot for log price vs log sales')\n",
    "plt.show()\n",
    "#plt.savefig('scatter_oj.pdf')"
   ]
  },
  {
   "cell_type": "markdown",
   "id": "f5994b1f",
   "metadata": {},
   "source": [
    "## Price Elasticity"
   ]
  },
  {
   "cell_type": "code",
   "execution_count": null,
   "id": "b54736bd",
   "metadata": {},
   "outputs": [],
   "source": [
    "reg = smf.glm(formula='log_sales ~ log_price + brand', data=oj).fit()\n",
    "print(reg.summary())"
   ]
  },
  {
   "cell_type": "code",
   "execution_count": null,
   "id": "9d023e2f",
   "metadata": {},
   "outputs": [],
   "source": [
    "# regression coefficients\n",
    "reg.params"
   ]
  },
  {
   "cell_type": "markdown",
   "id": "81d811c3",
   "metadata": {},
   "source": [
    "## The Design Matrix"
   ]
  },
  {
   "cell_type": "code",
   "execution_count": null,
   "id": "294e11fc",
   "metadata": {},
   "outputs": [],
   "source": [
    "from patsy import dmatrix\n",
    "\n",
    "x=pd.DataFrame(dmatrix(' ~ log_price + brand', data = oj)[[99, 199, 299,399,499,599]])\n",
    "x.columns=['Intercept','brand[T.minute.maid]','brand[T.tropicana]','log_price']\n",
    "x"
   ]
  },
  {
   "cell_type": "markdown",
   "id": "b2e9321a",
   "metadata": {},
   "source": [
    "## Interaction"
   ]
  },
  {
   "cell_type": "code",
   "execution_count": null,
   "id": "0cf1bb48",
   "metadata": {},
   "outputs": [],
   "source": [
    "reg_interact = smf.glm(formula='log_sales ~ log_price * brand', data=oj).fit()\n",
    "print(reg_interact.summary()) "
   ]
  },
  {
   "cell_type": "markdown",
   "id": "55d7a732",
   "metadata": {},
   "source": [
    "## Advertisements"
   ]
  },
  {
   "cell_type": "markdown",
   "id": "ed52bf5f",
   "metadata": {},
   "source": [
    "We could model the additive effect on log sales volume\n",
    "\n",
    "$$E[\\log({\\tt v})] = \\alpha_{b} + \n",
    "{1_{[{\\tt feat}]}\\alpha_{\\tt feat}} + \\beta_b\\log({\\tt p}) $$\n",
    "\n",
    "Or this and its effect on elasticity\n",
    "\n",
    "$$E[\\log(v)] = \\alpha_{b} + \\beta_b\\log({\\tt p}) + \n",
    "{1_{[{\\tt feat}]}\\left(\\alpha_{\\tt feat} \n",
    "+ \\beta_{\\tt feat}\\log({\\tt p})\\right)}$$\n",
    "\n",
    "Or its brand-specific effect on elasticity\n",
    "\n",
    "$$E[\\log(v)] = \\alpha_{b} + \\beta_b\\log({\\tt p}) + \n",
    "{1_{[{\\tt feat}]}\\left(\\alpha_{b,\\tt feat} \n",
    "+ \\beta_{b,\\tt feat}\\log({\\tt p})\\right)}$$\n",
    "\n",
    "See below for all three models"
   ]
  },
  {
   "cell_type": "code",
   "execution_count": null,
   "id": "2c9d9fae",
   "metadata": {},
   "outputs": [],
   "source": [
    "# Add the intercation for 3 kinds variables\n",
    "reg_full = smf.glm(formula='log_sales ~ log_price * brand * feat', data=oj).fit()\n",
    "print(reg_full.summary())"
   ]
  },
  {
   "cell_type": "markdown",
   "id": "44a81c7d",
   "metadata": {},
   "source": [
    "## Brand-specific Elasticities"
   ]
  },
  {
   "cell_type": "code",
   "execution_count": null,
   "id": "332a39e6",
   "metadata": {},
   "outputs": [],
   "source": [
    "# Construct the elasticities table\n",
    "b = reg_full.params\n",
    "\n",
    "data = [['Not featured & Dominicks', b[\"log_price\"]], \n",
    "        ['Not featured & Minute Maid', b[\"log_price\"] + b[\"log_price:brand[T.minute.maid]\"]],\n",
    "        ['Not featured & Tropicana', b[\"log_price\"] + b[\"log_price:brand[T.tropicana]\"]],\n",
    "        ['Featured & Dominicks', b[\"log_price\"] + b[\"log_price:feat\"]], \n",
    "        ['Featured & Minute Maid', b[\"log_price\"] + b[\"log_price:brand[T.minute.maid]\"] + b[\"log_price:feat\"] + b[\"log_price:brand[T.minute.maid]:feat\"]],\n",
    "        ['Featured & Tropicana', b[\"log_price\"] + b[\"log_price\"] + b[\"log_price:brand[T.tropicana]\"] + b[\"log_price:feat\"] + b[\"log_price:brand[T.tropicana]:feat\"]]]\n",
    "\n",
    "pd.DataFrame(data, columns = ['brand&feature', 'elastisity']).round(1)"
   ]
  },
  {
   "cell_type": "markdown",
   "id": "0dec5b0c",
   "metadata": {},
   "source": [
    "## Confounding"
   ]
  },
  {
   "cell_type": "code",
   "execution_count": null,
   "id": "e250b676",
   "metadata": {},
   "outputs": [],
   "source": [
    "# table explaining why ads confounded our brand elasticity estimates\n",
    "from statsmodels.graphics.mosaicplot import mosaic\n",
    "\n",
    "oj_1 = pd.read_csv('%s/oj_1.csv'%(_DATA_DIR))\n",
    "oj_1['move'] = oj_1.logmove.apply(lambda x: np.exp(x))\n",
    "oj_1['sales_predict'] = reg_full.predict()\n",
    "\n",
    "salestable = oj_1.pivot_table(aggfunc=np.sum, values='move', index=['feat', 'brand']).to_dict()\n",
    "plt.figure(figsize = (8,8))\n",
    "mosaic(salestable['move'])\n",
    "plt.title('Mosaic plot of the amount of advertisement by brand')\n",
    "plt.show()\n",
    "#plt.savefig('mosaic_oj.pdf')"
   ]
  },
  {
   "cell_type": "markdown",
   "id": "0710330b",
   "metadata": {},
   "source": [
    "## Estimation and Goodness of Fit"
   ]
  },
  {
   "cell_type": "code",
   "execution_count": null,
   "id": "c6b7100e",
   "metadata": {},
   "outputs": [],
   "source": [
    "print(\"oj null deviance:\",round(reg_full.null_deviance,2))\n",
    "print(\"oj deviance:\",round(reg_full.deviance,2))\n",
    "print(\"oj R2:\",round(1-reg_full.deviance/reg_full.null_deviance,2))"
   ]
  },
  {
   "cell_type": "markdown",
   "id": "ecf994d0",
   "metadata": {},
   "source": [
    "## Visualization of $\\hat{y}$ vs $y$"
   ]
  },
  {
   "cell_type": "code",
   "execution_count": null,
   "id": "4d80776e",
   "metadata": {},
   "outputs": [],
   "source": [
    "sns.scatterplot(x='logmove',y='sales_predict',hue='brand', data = oj_1)\n",
    "logmove_linspace = np.linspace(oj_1['logmove'].min(), oj_1['logmove'].max(), 100)\n",
    "\n",
    "plt.plot(oj_1['sales_predict'], oj_1['sales_predict'], 'black')\n",
    "plt.xlabel('log sales')\n",
    "plt.ylabel('predicted sales')\n",
    "plt.title('fit plot for OJ linear regression')\n",
    "# plt.savefig('regression_oj.pdf')"
   ]
  },
  {
   "cell_type": "markdown",
   "id": "895e513a",
   "metadata": {},
   "source": [
    "## Prediction"
   ]
  },
  {
   "cell_type": "code",
   "execution_count": null,
   "id": "9f6d4345",
   "metadata": {},
   "outputs": [],
   "source": [
    "pd.DataFrame({'predict':reg_full.predict(oj[0:10]), 'true':oj_1.loc[0:9,'logmove']}).round(2)"
   ]
  },
  {
   "cell_type": "markdown",
   "id": "efb4d9f3",
   "metadata": {},
   "source": [
    "# Logistic Regression (default example)"
   ]
  },
  {
   "cell_type": "code",
   "execution_count": null,
   "id": "ae82e590",
   "metadata": {},
   "outputs": [],
   "source": [
    "# read data\n",
    "default = pd.read_csv('%s/default.csv'%(_DATA_DIR),index_col=0)\n",
    "\n",
    "default.head()"
   ]
  },
  {
   "cell_type": "code",
   "execution_count": null,
   "id": "c2449d9b",
   "metadata": {},
   "outputs": [],
   "source": [
    "## fit the full model\n",
    "all_columns = \" + \".join(default.columns.difference([\"probability\"]))\n",
    "\n",
    "my_formula = \"probability~\" + all_columns\n",
    "\n",
    "proba = smf.glm(formula=my_formula , data=default, family=sm.families.Binomial()).fit()\n",
    "print(proba.summary())"
   ]
  },
  {
   "cell_type": "markdown",
   "id": "20f29283",
   "metadata": {},
   "source": [
    "## Estimation and Goodness of Fit"
   ]
  },
  {
   "cell_type": "code",
   "execution_count": null,
   "id": "d37575a9",
   "metadata": {},
   "outputs": [],
   "source": [
    "print(\"default null deviance:\",round(proba.null_deviance,2))\n",
    "print(\"default deviance:\",round(proba.deviance,2))\n",
    "print(\"default R2:\",round(1-proba.deviance/proba.null_deviance,2))"
   ]
  },
  {
   "cell_type": "markdown",
   "id": "95df30b8",
   "metadata": {},
   "source": [
    "## Visualization of $\\hat{y}$ vs $y$"
   ]
  },
  {
   "cell_type": "code",
   "execution_count": null,
   "id": "1cf97f2f",
   "metadata": {},
   "outputs": [],
   "source": [
    "fitted = proba.fittedvalues.values\n",
    "default_proba = default['probability']\n",
    "\n",
    "sns.boxplot(x=default_proba,y=fitted)\n",
    "\n",
    "plt.xlabel('default category')\n",
    "plt.ylabel('fitted probability of default')\n",
    "plt.title('fit plot for default logistic regression')\n",
    "#plt.savefig('regression_default.pdf')"
   ]
  },
  {
   "cell_type": "markdown",
   "id": "c1cc6928",
   "metadata": {},
   "source": [
    "## Prediction"
   ]
  },
  {
   "cell_type": "code",
   "execution_count": null,
   "id": "7be33663",
   "metadata": {},
   "outputs": [],
   "source": [
    "pd.DataFrame({'predict':proba.predict(default[0:9]), 'true':default.loc[0:9,'probability']}).round(2)"
   ]
  },
  {
   "cell_type": "markdown",
   "id": "66e682d7",
   "metadata": {},
   "source": [
    "## Out of sample prediction"
   ]
  },
  {
   "cell_type": "code",
   "execution_count": null,
   "id": "33f94d08",
   "metadata": {},
   "outputs": [],
   "source": [
    "import random\n",
    "leaveout = random.sample(range(len(default)),1000)\n",
    "\n",
    "# train the model WITHOUT these observations\n",
    "probatrain = smf.glm(formula=my_formula, data=default.drop(leaveout), family=sm.families.Binomial()).fit()\n",
    "\n",
    "X_test = default.loc[leaveout].drop(columns = 'probability')\n",
    "# predicted probability of default on the left out data\n",
    "pdefault = probatrain.predict(X_test)"
   ]
  },
  {
   "cell_type": "code",
   "execution_count": null,
   "id": "81247355",
   "metadata": {},
   "outputs": [],
   "source": [
    "predict = pdefault\n",
    "default_proba = default.loc[leaveout,'probability']\n",
    "\n",
    "sns.boxplot(x=default_proba,y=predict)\n",
    "\n",
    "plt.xlabel('default category')\n",
    "plt.ylabel('fitted probability of default')\n",
    "plt.title('fit plot for default logistic regression (OOS)')\n",
    "#plt.savefig('oos_regression_default.pdf')"
   ]
  },
  {
   "cell_type": "code",
   "execution_count": null,
   "id": "c86d9580",
   "metadata": {},
   "outputs": [],
   "source": [
    "def deviance(y, pred, family):\n",
    "    if family == 'gaussian':\n",
    "        return sum((y - pred)**2)\n",
    "    if family == 'binomial':\n",
    "        return -2 * sum(y * np.log(pred) + (1-y) * np.log(1-pred))\n",
    "    \n",
    "y_test = default.loc[leaveout,'probability']\n",
    "y_train = default.drop(leaveout).probability\n",
    "\n",
    "dev0 = deviance(y_test,np.repeat(np.mean(y_train),len(y_test)),family=\"binomial\")\n",
    "dev = deviance(y_test,np.array(pdefault),family=\"binomial\")\n",
    "R2 = 1-dev/dev0\n",
    "\n"
   ]
  },
  {
   "cell_type": "code",
   "execution_count": null,
   "id": "b3c73b76",
   "metadata": {},
   "outputs": [],
   "source": [
    "print(\"oos dev0:\",round(dev0,4))\n",
    "print(\"oos dev:\",round(dev,4))\n",
    "print(\"oos R2:\",round(R2,4))"
   ]
  },
  {
   "cell_type": "code",
   "execution_count": null,
   "id": "e92d851e",
   "metadata": {},
   "outputs": [],
   "source": []
  }
 ],
 "metadata": {
  "kernelspec": {
   "display_name": "Python 3 (ipykernel)",
   "language": "python",
   "name": "python3"
  },
  "language_info": {
   "codemirror_mode": {
    "name": "ipython",
    "version": 3
   },
   "file_extension": ".py",
   "mimetype": "text/x-python",
   "name": "python",
   "nbconvert_exporter": "python",
   "pygments_lexer": "ipython3",
   "version": "3.10.9"
  }
 },
 "nbformat": 4,
 "nbformat_minor": 5
}
